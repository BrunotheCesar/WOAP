{
 "cells": [
  {
   "cell_type": "code",
   "execution_count": 1,
   "metadata": {},
   "outputs": [],
   "source": [
    "import pandas as pd\n",
    "import numpy as np\n",
    "import matplotlib\n",
    "import matplotlib.pyplot as plt\n",
    "from matplotlib.pyplot import figure"
   ]
  },
  {
   "cell_type": "code",
   "execution_count": 2,
   "metadata": {},
   "outputs": [],
   "source": [
    "df = pd.read_csv('C:/Users/bruno/Desktop/WOAP.csv')"
   ]
  },
  {
   "cell_type": "code",
   "execution_count": null,
   "metadata": {},
   "outputs": [],
   "source": [
    "# Part 1 - Data cleansing -> Beer x appearances bar\n",
    "# Part 2 - Data cleansing -> Burguer Price\n",
    "# Part 3 - Data cleansing -> Beer Price"
   ]
  },
  {
   "cell_type": "code",
   "execution_count": null,
   "metadata": {},
   "outputs": [],
   "source": [
    "# PART 1 Data cleansing -> Beer x appearances bar"
   ]
  },
  {
   "cell_type": "code",
   "execution_count": 9,
   "metadata": {
    "scrolled": true
   },
   "outputs": [
    {
     "data": {
      "text/html": [
       "<div>\n",
       "<style scoped>\n",
       "    .dataframe tbody tr th:only-of-type {\n",
       "        vertical-align: middle;\n",
       "    }\n",
       "\n",
       "    .dataframe tbody tr th {\n",
       "        vertical-align: top;\n",
       "    }\n",
       "\n",
       "    .dataframe thead th {\n",
       "        text-align: right;\n",
       "    }\n",
       "</style>\n",
       "<table border=\"1\" class=\"dataframe\">\n",
       "  <thead>\n",
       "    <tr style=\"text-align: right;\">\n",
       "      <th></th>\n",
       "      <th>Unnamed: 0</th>\n",
       "      <th>Unnamed: 1</th>\n",
       "      <th>Unnamed: 2</th>\n",
       "      <th>Unnamed: 3</th>\n",
       "      <th>Unnamed: 4</th>\n",
       "      <th>Unnamed: 5</th>\n",
       "      <th>Unnamed: 6</th>\n",
       "      <th>Unnamed: 7</th>\n",
       "      <th>Unnamed: 8</th>\n",
       "      <th>Unnamed: 9</th>\n",
       "      <th>...</th>\n",
       "      <th>Unnamed: 22</th>\n",
       "      <th>Unnamed: 23</th>\n",
       "      <th>Unnamed: 24</th>\n",
       "      <th>Unnamed: 25</th>\n",
       "      <th>Unnamed: 26</th>\n",
       "      <th>Unnamed: 27</th>\n",
       "      <th>Unnamed: 28</th>\n",
       "      <th>Unnamed: 29</th>\n",
       "      <th>Unnamed: 30</th>\n",
       "      <th>Unnamed: 31</th>\n",
       "    </tr>\n",
       "  </thead>\n",
       "  <tbody>\n",
       "    <tr>\n",
       "      <th>0</th>\n",
       "      <td>NaN</td>\n",
       "      <td>NaN</td>\n",
       "      <td>NaN</td>\n",
       "      <td>NaN</td>\n",
       "      <td>NaN</td>\n",
       "      <td>NaN</td>\n",
       "      <td>NaN</td>\n",
       "      <td>NaN</td>\n",
       "      <td>NaN</td>\n",
       "      <td>NaN</td>\n",
       "      <td>...</td>\n",
       "      <td>NaN</td>\n",
       "      <td>NaN</td>\n",
       "      <td>NaN</td>\n",
       "      <td>NaN</td>\n",
       "      <td>NaN</td>\n",
       "      <td>NaN</td>\n",
       "      <td>NaN</td>\n",
       "      <td>NaN</td>\n",
       "      <td>NaN</td>\n",
       "      <td>NaN</td>\n",
       "    </tr>\n",
       "    <tr>\n",
       "      <th>1</th>\n",
       "      <td>NaN</td>\n",
       "      <td>NaN</td>\n",
       "      <td>NaN</td>\n",
       "      <td>NaN</td>\n",
       "      <td>NaN</td>\n",
       "      <td>NaN</td>\n",
       "      <td>NaN</td>\n",
       "      <td>NaN</td>\n",
       "      <td>NaN</td>\n",
       "      <td>NaN</td>\n",
       "      <td>...</td>\n",
       "      <td>NaN</td>\n",
       "      <td>NaN</td>\n",
       "      <td>NaN</td>\n",
       "      <td>NaN</td>\n",
       "      <td>NaN</td>\n",
       "      <td>NaN</td>\n",
       "      <td>NaN</td>\n",
       "      <td>NaN</td>\n",
       "      <td>NaN</td>\n",
       "      <td>NaN</td>\n",
       "    </tr>\n",
       "    <tr>\n",
       "      <th>2</th>\n",
       "      <td>NaN</td>\n",
       "      <td>NaN</td>\n",
       "      <td>NaN</td>\n",
       "      <td>NaN</td>\n",
       "      <td>NaN</td>\n",
       "      <td>NaN</td>\n",
       "      <td>NaN</td>\n",
       "      <td>NaN</td>\n",
       "      <td>NaN</td>\n",
       "      <td>NaN</td>\n",
       "      <td>...</td>\n",
       "      <td>NaN</td>\n",
       "      <td>NaN</td>\n",
       "      <td>NaN</td>\n",
       "      <td>NaN</td>\n",
       "      <td>NaN</td>\n",
       "      <td>NaN</td>\n",
       "      <td>NaN</td>\n",
       "      <td>NaN</td>\n",
       "      <td>NaN</td>\n",
       "      <td>NaN</td>\n",
       "    </tr>\n",
       "    <tr>\n",
       "      <th>3</th>\n",
       "      <td>NaN</td>\n",
       "      <td>NaN</td>\n",
       "      <td>NaN</td>\n",
       "      <td>NaN</td>\n",
       "      <td>Click here to rate your burgers</td>\n",
       "      <td>Sheet by @steffenrusten</td>\n",
       "      <td>NaN</td>\n",
       "      <td>NaN</td>\n",
       "      <td>NaN</td>\n",
       "      <td>NaN</td>\n",
       "      <td>...</td>\n",
       "      <td>NaN</td>\n",
       "      <td>NaN</td>\n",
       "      <td>NaN</td>\n",
       "      <td>NaN</td>\n",
       "      <td>NaN</td>\n",
       "      <td>NaN</td>\n",
       "      <td>NaN</td>\n",
       "      <td>NaN</td>\n",
       "      <td>NaN</td>\n",
       "      <td>NaN</td>\n",
       "    </tr>\n",
       "    <tr>\n",
       "      <th>4</th>\n",
       "      <td>NaN</td>\n",
       "      <td>Burger Name</td>\n",
       "      <td>Restaurant</td>\n",
       "      <td>Sort</td>\n",
       "      <td>Burger Description</td>\n",
       "      <td>Side?</td>\n",
       "      <td>Price</td>\n",
       "      <td>Beer</td>\n",
       "      <td>Price w/beer</td>\n",
       "      <td>Rating (1-5)</td>\n",
       "      <td>...</td>\n",
       "      <td>Seafood</td>\n",
       "      <td>Sweet</td>\n",
       "      <td>Vegetarian</td>\n",
       "      <td>Venison</td>\n",
       "      <td>Alternative Meat</td>\n",
       "      <td>Other</td>\n",
       "      <td>NaN</td>\n",
       "      <td>Pickles?</td>\n",
       "      <td>Chilli?</td>\n",
       "      <td>Fries?</td>\n",
       "    </tr>\n",
       "    <tr>\n",
       "      <th>5</th>\n",
       "      <td>NaN</td>\n",
       "      <td>Marinara Moneyball</td>\n",
       "      <td>1154 Pastaria</td>\n",
       "      <td>1154 pastaria</td>\n",
       "      <td>Italian-spiced pork and beef meatball with hou...</td>\n",
       "      <td>NaN</td>\n",
       "      <td>$12</td>\n",
       "      <td>Noon Juice</td>\n",
       "      <td>$20</td>\n",
       "      <td>3.0</td>\n",
       "      <td>...</td>\n",
       "      <td>NaN</td>\n",
       "      <td>NaN</td>\n",
       "      <td>NaN</td>\n",
       "      <td>NaN</td>\n",
       "      <td>NaN</td>\n",
       "      <td>NaN</td>\n",
       "      <td>NaN</td>\n",
       "      <td>NaN</td>\n",
       "      <td>NaN</td>\n",
       "      <td>NaN</td>\n",
       "    </tr>\n",
       "    <tr>\n",
       "      <th>6</th>\n",
       "      <td>NaN</td>\n",
       "      <td>Wild Scotsman</td>\n",
       "      <td>1815 Café &amp; Bar</td>\n",
       "      <td>1815 café &amp; bar</td>\n",
       "      <td>Wairarapa venison patty with beetroot chutney ...</td>\n",
       "      <td>Yes</td>\n",
       "      <td>$24</td>\n",
       "      <td>Fugazi</td>\n",
       "      <td>$34</td>\n",
       "      <td>NaN</td>\n",
       "      <td>...</td>\n",
       "      <td>NaN</td>\n",
       "      <td>NaN</td>\n",
       "      <td>NaN</td>\n",
       "      <td>X</td>\n",
       "      <td>NaN</td>\n",
       "      <td>NaN</td>\n",
       "      <td>NaN</td>\n",
       "      <td>NaN</td>\n",
       "      <td>NaN</td>\n",
       "      <td>NaN</td>\n",
       "    </tr>\n",
       "    <tr>\n",
       "      <th>7</th>\n",
       "      <td>NaN</td>\n",
       "      <td>The Foghorn</td>\n",
       "      <td>7Bar &amp; Eatery</td>\n",
       "      <td>7bar &amp; eatery</td>\n",
       "      <td>Chilli-glazed chicken thigh with smashed avoca...</td>\n",
       "      <td>Yes</td>\n",
       "      <td>$20</td>\n",
       "      <td>NaN</td>\n",
       "      <td>NaN</td>\n",
       "      <td>NaN</td>\n",
       "      <td>...</td>\n",
       "      <td>NaN</td>\n",
       "      <td>NaN</td>\n",
       "      <td>NaN</td>\n",
       "      <td>NaN</td>\n",
       "      <td>NaN</td>\n",
       "      <td>NaN</td>\n",
       "      <td>NaN</td>\n",
       "      <td>NaN</td>\n",
       "      <td>X</td>\n",
       "      <td>X</td>\n",
       "    </tr>\n",
       "    <tr>\n",
       "      <th>8</th>\n",
       "      <td>NaN</td>\n",
       "      <td>Risk it for the Brisket</td>\n",
       "      <td>Amador</td>\n",
       "      <td>amador</td>\n",
       "      <td>Beef brisket patty with caramelised onions, ba...</td>\n",
       "      <td>NaN</td>\n",
       "      <td>$18</td>\n",
       "      <td>Noon Juice</td>\n",
       "      <td>$25</td>\n",
       "      <td>NaN</td>\n",
       "      <td>...</td>\n",
       "      <td>NaN</td>\n",
       "      <td>NaN</td>\n",
       "      <td>NaN</td>\n",
       "      <td>NaN</td>\n",
       "      <td>NaN</td>\n",
       "      <td>NaN</td>\n",
       "      <td>NaN</td>\n",
       "      <td>X</td>\n",
       "      <td>NaN</td>\n",
       "      <td>NaN</td>\n",
       "    </tr>\n",
       "    <tr>\n",
       "      <th>9</th>\n",
       "      <td>NaN</td>\n",
       "      <td>Rise of the Phoenix</td>\n",
       "      <td>Apachè</td>\n",
       "      <td>apachè</td>\n",
       "      <td>Earthend mānuka honey and sriracha caramelised...</td>\n",
       "      <td>Yes</td>\n",
       "      <td>$22</td>\n",
       "      <td>DFA</td>\n",
       "      <td>$33</td>\n",
       "      <td>NaN</td>\n",
       "      <td>...</td>\n",
       "      <td>NaN</td>\n",
       "      <td>NaN</td>\n",
       "      <td>NaN</td>\n",
       "      <td>NaN</td>\n",
       "      <td>NaN</td>\n",
       "      <td>NaN</td>\n",
       "      <td>NaN</td>\n",
       "      <td>NaN</td>\n",
       "      <td>X</td>\n",
       "      <td>NaN</td>\n",
       "    </tr>\n",
       "  </tbody>\n",
       "</table>\n",
       "<p>10 rows × 32 columns</p>\n",
       "</div>"
      ],
      "text/plain": [
       "   Unnamed: 0               Unnamed: 1       Unnamed: 2       Unnamed: 3  \\\n",
       "0         NaN                      NaN              NaN              NaN   \n",
       "1         NaN                      NaN              NaN              NaN   \n",
       "2         NaN                      NaN              NaN              NaN   \n",
       "3         NaN                      NaN              NaN              NaN   \n",
       "4         NaN              Burger Name       Restaurant             Sort   \n",
       "5         NaN       Marinara Moneyball    1154 Pastaria    1154 pastaria   \n",
       "6         NaN            Wild Scotsman  1815 Café & Bar  1815 café & bar   \n",
       "7         NaN              The Foghorn    7Bar & Eatery    7bar & eatery   \n",
       "8         NaN  Risk it for the Brisket           Amador           amador   \n",
       "9         NaN      Rise of the Phoenix           Apachè           apachè   \n",
       "\n",
       "                                          Unnamed: 4               Unnamed: 5  \\\n",
       "0                                                NaN                      NaN   \n",
       "1                                                NaN                      NaN   \n",
       "2                                                NaN                      NaN   \n",
       "3                    Click here to rate your burgers  Sheet by @steffenrusten   \n",
       "4                                 Burger Description                    Side?   \n",
       "5  Italian-spiced pork and beef meatball with hou...                      NaN   \n",
       "6  Wairarapa venison patty with beetroot chutney ...                      Yes   \n",
       "7  Chilli-glazed chicken thigh with smashed avoca...                      Yes   \n",
       "8  Beef brisket patty with caramelised onions, ba...                      NaN   \n",
       "9  Earthend mānuka honey and sriracha caramelised...                      Yes   \n",
       "\n",
       "  Unnamed: 6  Unnamed: 7     Unnamed: 8    Unnamed: 9  ...  Unnamed: 22  \\\n",
       "0        NaN         NaN            NaN           NaN  ...          NaN   \n",
       "1        NaN         NaN            NaN           NaN  ...          NaN   \n",
       "2        NaN         NaN            NaN           NaN  ...          NaN   \n",
       "3        NaN         NaN            NaN           NaN  ...          NaN   \n",
       "4      Price        Beer   Price w/beer  Rating (1-5)  ...      Seafood   \n",
       "5        $12  Noon Juice            $20           3.0  ...          NaN   \n",
       "6        $24      Fugazi            $34           NaN  ...          NaN   \n",
       "7        $20         NaN            NaN           NaN  ...          NaN   \n",
       "8        $18  Noon Juice            $25           NaN  ...          NaN   \n",
       "9        $22         DFA            $33           NaN  ...          NaN   \n",
       "\n",
       "  Unnamed: 23  Unnamed: 24 Unnamed: 25        Unnamed: 26 Unnamed: 27  \\\n",
       "0         NaN          NaN         NaN                NaN         NaN   \n",
       "1         NaN          NaN         NaN                NaN         NaN   \n",
       "2         NaN          NaN         NaN                NaN         NaN   \n",
       "3         NaN          NaN         NaN                NaN         NaN   \n",
       "4       Sweet   Vegetarian     Venison   Alternative Meat       Other   \n",
       "5         NaN          NaN         NaN                NaN         NaN   \n",
       "6         NaN          NaN           X                NaN         NaN   \n",
       "7         NaN          NaN         NaN                NaN         NaN   \n",
       "8         NaN          NaN         NaN                NaN         NaN   \n",
       "9         NaN          NaN         NaN                NaN         NaN   \n",
       "\n",
       "   Unnamed: 28 Unnamed: 29 Unnamed: 30 Unnamed: 31  \n",
       "0          NaN         NaN         NaN         NaN  \n",
       "1          NaN         NaN         NaN         NaN  \n",
       "2          NaN         NaN         NaN         NaN  \n",
       "3          NaN         NaN         NaN         NaN  \n",
       "4          NaN    Pickles?     Chilli?      Fries?  \n",
       "5          NaN         NaN         NaN         NaN  \n",
       "6          NaN         NaN         NaN         NaN  \n",
       "7          NaN         NaN           X           X  \n",
       "8          NaN           X         NaN         NaN  \n",
       "9          NaN         NaN           X         NaN  \n",
       "\n",
       "[10 rows x 32 columns]"
      ]
     },
     "execution_count": 9,
     "metadata": {},
     "output_type": "execute_result"
    }
   ],
   "source": [
    "df.head(10)"
   ]
  },
  {
   "cell_type": "code",
   "execution_count": 3,
   "metadata": {
    "scrolled": true
   },
   "outputs": [],
   "source": [
    "df = df.drop([0,1,2,3], axis=0)"
   ]
  },
  {
   "cell_type": "code",
   "execution_count": 4,
   "metadata": {},
   "outputs": [],
   "source": [
    "df = df.drop(['Unnamed: 0', 'Unnamed: 3', 'Unnamed: 9', 'Unnamed: 10','Unnamed: 11', 'Unnamed: 12', 'Unnamed: 13', 'Unnamed: 14', 'Unnamed: 15', 'Unnamed: 16', 'Unnamed: 17', 'Unnamed: 18', 'Unnamed: 19', 'Unnamed: 20', 'Unnamed: 21', 'Unnamed: 22', 'Unnamed: 23', 'Unnamed: 24', 'Unnamed: 25', 'Unnamed: 26', 'Unnamed: 27', 'Unnamed: 28', 'Unnamed: 29', 'Unnamed: 30', 'Unnamed: 31'], axis=1)"
   ]
  },
  {
   "cell_type": "code",
   "execution_count": 5,
   "metadata": {},
   "outputs": [],
   "source": [
    "df = df.reset_index(drop=True)"
   ]
  },
  {
   "cell_type": "code",
   "execution_count": 6,
   "metadata": {},
   "outputs": [],
   "source": [
    "df = df.rename(columns={'Unnamed: 1': 'Burguer Name', 'Unnamed: 2': 'Restaurant', 'Unnamed: 4': 'Burguer Description', 'Unnamed: 5': 'Side?', 'Unnamed: 6': 'Price', 'Unnamed: 7': 'Beer', 'Unnamed: 8':'Price w/ Beer'})"
   ]
  },
  {
   "cell_type": "code",
   "execution_count": 7,
   "metadata": {},
   "outputs": [],
   "source": [
    "df = df.drop('Side?', axis=1)"
   ]
  },
  {
   "cell_type": "code",
   "execution_count": 8,
   "metadata": {
    "scrolled": true
   },
   "outputs": [
    {
     "data": {
      "text/html": [
       "<div>\n",
       "<style scoped>\n",
       "    .dataframe tbody tr th:only-of-type {\n",
       "        vertical-align: middle;\n",
       "    }\n",
       "\n",
       "    .dataframe tbody tr th {\n",
       "        vertical-align: top;\n",
       "    }\n",
       "\n",
       "    .dataframe thead th {\n",
       "        text-align: right;\n",
       "    }\n",
       "</style>\n",
       "<table border=\"1\" class=\"dataframe\">\n",
       "  <thead>\n",
       "    <tr style=\"text-align: right;\">\n",
       "      <th></th>\n",
       "      <th>Burguer Name</th>\n",
       "      <th>Restaurant</th>\n",
       "      <th>Burguer Description</th>\n",
       "      <th>Price w/ Beer</th>\n",
       "    </tr>\n",
       "    <tr>\n",
       "      <th>Beer</th>\n",
       "      <th></th>\n",
       "      <th></th>\n",
       "      <th></th>\n",
       "      <th></th>\n",
       "    </tr>\n",
       "  </thead>\n",
       "  <tbody>\n",
       "    <tr>\n",
       "      <th>Beer</th>\n",
       "      <td>1</td>\n",
       "      <td>1</td>\n",
       "      <td>1</td>\n",
       "      <td>1</td>\n",
       "    </tr>\n",
       "    <tr>\n",
       "      <th>Bliss</th>\n",
       "      <td>10</td>\n",
       "      <td>10</td>\n",
       "      <td>10</td>\n",
       "      <td>10</td>\n",
       "    </tr>\n",
       "    <tr>\n",
       "      <th>Cereal Milk Stout</th>\n",
       "      <td>6</td>\n",
       "      <td>6</td>\n",
       "      <td>6</td>\n",
       "      <td>6</td>\n",
       "    </tr>\n",
       "    <tr>\n",
       "      <th>DFA</th>\n",
       "      <td>10</td>\n",
       "      <td>10</td>\n",
       "      <td>10</td>\n",
       "      <td>10</td>\n",
       "    </tr>\n",
       "    <tr>\n",
       "      <th>Electric Dry Hop Acid Test</th>\n",
       "      <td>3</td>\n",
       "      <td>3</td>\n",
       "      <td>3</td>\n",
       "      <td>3</td>\n",
       "    </tr>\n",
       "    <tr>\n",
       "      <th>Fugazi</th>\n",
       "      <td>8</td>\n",
       "      <td>8</td>\n",
       "      <td>8</td>\n",
       "      <td>8</td>\n",
       "    </tr>\n",
       "    <tr>\n",
       "      <th>Fuzz Box</th>\n",
       "      <td>6</td>\n",
       "      <td>6</td>\n",
       "      <td>6</td>\n",
       "      <td>6</td>\n",
       "    </tr>\n",
       "    <tr>\n",
       "      <th>Garagista</th>\n",
       "      <td>9</td>\n",
       "      <td>9</td>\n",
       "      <td>9</td>\n",
       "      <td>9</td>\n",
       "    </tr>\n",
       "    <tr>\n",
       "      <th>Hophaus Alt</th>\n",
       "      <td>8</td>\n",
       "      <td>8</td>\n",
       "      <td>8</td>\n",
       "      <td>8</td>\n",
       "    </tr>\n",
       "    <tr>\n",
       "      <th>Hāpi Daze</th>\n",
       "      <td>21</td>\n",
       "      <td>21</td>\n",
       "      <td>21</td>\n",
       "      <td>21</td>\n",
       "    </tr>\n",
       "    <tr>\n",
       "      <th>Noon Juice</th>\n",
       "      <td>30</td>\n",
       "      <td>30</td>\n",
       "      <td>30</td>\n",
       "      <td>30</td>\n",
       "    </tr>\n",
       "    <tr>\n",
       "      <th>Pickle Beer</th>\n",
       "      <td>34</td>\n",
       "      <td>34</td>\n",
       "      <td>34</td>\n",
       "      <td>34</td>\n",
       "    </tr>\n",
       "    <tr>\n",
       "      <th>Pils'n'Thrills</th>\n",
       "      <td>14</td>\n",
       "      <td>14</td>\n",
       "      <td>14</td>\n",
       "      <td>14</td>\n",
       "    </tr>\n",
       "    <tr>\n",
       "      <th>Tournesol</th>\n",
       "      <td>1</td>\n",
       "      <td>1</td>\n",
       "      <td>1</td>\n",
       "      <td>1</td>\n",
       "    </tr>\n",
       "  </tbody>\n",
       "</table>\n",
       "</div>"
      ],
      "text/plain": [
       "                            Burguer Name  Restaurant  Burguer Description  \\\n",
       "Beer                                                                        \n",
       " Beer                                  1           1                    1   \n",
       "Bliss                                 10          10                   10   \n",
       "Cereal Milk Stout                      6           6                    6   \n",
       "DFA                                   10          10                   10   \n",
       "Electric Dry Hop Acid Test             3           3                    3   \n",
       "Fugazi                                 8           8                    8   \n",
       "Fuzz Box                               6           6                    6   \n",
       "Garagista                              9           9                    9   \n",
       "Hophaus Alt                            8           8                    8   \n",
       "Hāpi Daze                             21          21                   21   \n",
       "Noon Juice                            30          30                   30   \n",
       "Pickle Beer                           34          34                   34   \n",
       "Pils'n'Thrills                        14          14                   14   \n",
       "Tournesol                              1           1                    1   \n",
       "\n",
       "                            Price w/ Beer  \n",
       "Beer                                       \n",
       " Beer                                   1  \n",
       "Bliss                                  10  \n",
       "Cereal Milk Stout                       6  \n",
       "DFA                                    10  \n",
       "Electric Dry Hop Acid Test              3  \n",
       "Fugazi                                  8  \n",
       "Fuzz Box                                6  \n",
       "Garagista                               9  \n",
       "Hophaus Alt                             8  \n",
       "Hāpi Daze                              21  \n",
       "Noon Juice                             30  \n",
       "Pickle Beer                            34  \n",
       "Pils'n'Thrills                         14  \n",
       "Tournesol                               1  "
      ]
     },
     "execution_count": 8,
     "metadata": {},
     "output_type": "execute_result"
    }
   ],
   "source": [
    "df.set_index([\"Price\", \"Beer\"]).count(level=\"Beer\")"
   ]
  },
  {
   "cell_type": "code",
   "execution_count": 10,
   "metadata": {},
   "outputs": [],
   "source": [
    "beer = df['Beer'].value_counts()"
   ]
  },
  {
   "cell_type": "code",
   "execution_count": 11,
   "metadata": {},
   "outputs": [],
   "source": [
    "beer = beer.reset_index()"
   ]
  },
  {
   "cell_type": "code",
   "execution_count": 12,
   "metadata": {},
   "outputs": [],
   "source": [
    "beer = beer.rename(columns={'index':'Beer','Beer':'Amount'})"
   ]
  },
  {
   "cell_type": "code",
   "execution_count": 13,
   "metadata": {},
   "outputs": [],
   "source": [
    "x = beer['Beer']\n",
    "y = beer['Amount']"
   ]
  },
  {
   "cell_type": "code",
   "execution_count": 14,
   "metadata": {},
   "outputs": [
    {
     "data": {
      "image/png": "[encoded data removed]",
      "text/plain": [
       "<Figure size 720x720 with 1 Axes>"
      ]
     },
     "metadata": {
      "needs_background": "light"
     },
     "output_type": "display_data"
    }
   ],
   "source": [
    "plt.figure(figsize=(10,10))\n",
    "plt.barh(x, y, color='palegoldenrod')\n",
    "plt.xlabel('Appearances')\n",
    "plt.ylabel('Beer Name')\n",
    "plt.title('Garage Project Beer Pairing Recommendation', loc='right')\n",
    "plt.savefig('beer.png')\n",
    "plt.grid()\n",
    "plt.show()"
   ]
  },
  {
   "cell_type": "code",
   "execution_count": null,
   "metadata": {},
   "outputs": [],
   "source": [
    "# PART 2 Data cleansing -> Burguer Price"
   ]
  },
  {
   "cell_type": "code",
   "execution_count": 15,
   "metadata": {
    "scrolled": true
   },
   "outputs": [
    {
     "name": "stdout",
     "output_type": "stream",
     "text": [
      "0       Price\n",
      "1         $12\n",
      "2         $24\n",
      "3         $20\n",
      "4         $18\n",
      "        ...  \n",
      "238       $22\n",
      "239       $25\n",
      "240       $25\n",
      "241       $22\n",
      "242       $16\n",
      "Name: Price, Length: 243, dtype: object\n"
     ]
    }
   ],
   "source": [
    "print(df['Price']) "
   ]
  },
  {
   "cell_type": "code",
   "execution_count": 16,
   "metadata": {},
   "outputs": [],
   "source": [
    "burguer_price = df['Price']"
   ]
  },
  {
   "cell_type": "code",
   "execution_count": 17,
   "metadata": {},
   "outputs": [],
   "source": [
    "burguer_price = burguer_price.apply(lambda x: x.replace('$','')) # Removed $"
   ]
  },
  {
   "cell_type": "code",
   "execution_count": 18,
   "metadata": {},
   "outputs": [],
   "source": [
    "burguer_price = burguer_price.drop(0, axis=0)"
   ]
  },
  {
   "cell_type": "code",
   "execution_count": 19,
   "metadata": {
    "scrolled": true
   },
   "outputs": [],
   "source": [
    "burguer_price = burguer_price.astype(str).astype(int) # Data type conversion"
   ]
  },
  {
   "cell_type": "code",
   "execution_count": 48,
   "metadata": {
    "scrolled": true
   },
   "outputs": [
    {
     "data": {
      "text/plain": [
       "22.00826446280992"
      ]
     },
     "execution_count": 48,
     "metadata": {},
     "output_type": "execute_result"
    }
   ],
   "source": [
    "burguer_price.mean()"
   ]
  },
  {
   "cell_type": "code",
   "execution_count": null,
   "metadata": {},
   "outputs": [],
   "source": [
    "# Part 3 - Data cleansing -> Burguer Price"
   ]
  },
  {
   "cell_type": "code",
   "execution_count": 24,
   "metadata": {
    "scrolled": true
   },
   "outputs": [
    {
     "name": "stdout",
     "output_type": "stream",
     "text": [
      "0       Price w/beer\n",
      "1                $20\n",
      "2                $34\n",
      "3                NaN\n",
      "4                $25\n",
      "           ...      \n",
      "238              NaN\n",
      "239              $35\n",
      "240              $35\n",
      "241              $32\n",
      "242              $25\n",
      "Name: Price w/ Beer, Length: 243, dtype: object\n"
     ]
    }
   ],
   "source": [
    "print(df['Price w/ Beer']) "
   ]
  },
  {
   "cell_type": "code",
   "execution_count": 23,
   "metadata": {},
   "outputs": [],
   "source": [
    "pricewbeer = df['Price w/ Beer']"
   ]
  },
  {
   "cell_type": "code",
   "execution_count": null,
   "metadata": {},
   "outputs": [],
   "source": [
    "# Fill NaN with $0 -> Remove $ sign -> Convert data to int -> Describe"
   ]
  },
  {
   "cell_type": "code",
   "execution_count": 27,
   "metadata": {},
   "outputs": [],
   "source": [
    "pricewbeer = pricewbeer.dropna(axis=0,how='all') # Removed rows with missing data"
   ]
  },
  {
   "cell_type": "code",
   "execution_count": 29,
   "metadata": {},
   "outputs": [],
   "source": [
    "pricewbeer = pricewbeer.apply(lambda x: x.replace('$','')) # Removed $"
   ]
  },
  {
   "cell_type": "code",
   "execution_count": 30,
   "metadata": {
    "scrolled": true
   },
   "outputs": [
    {
     "name": "stdout",
     "output_type": "stream",
     "text": [
      "0       Price w/beer\n",
      "1                 20\n",
      "2                 34\n",
      "4                 25\n",
      "5                 33\n",
      "           ...      \n",
      "236               37\n",
      "239               35\n",
      "240               35\n",
      "241               32\n",
      "242               25\n",
      "Name: Price w/ Beer, Length: 161, dtype: object\n"
     ]
    }
   ],
   "source": [
    "print(pricewbeer)"
   ]
  },
  {
   "cell_type": "code",
   "execution_count": 45,
   "metadata": {},
   "outputs": [],
   "source": [
    "pricewbeer = pricewbeer.apply(pd.to_numeric, errors='coerce') # object dtype to float"
   ]
  },
  {
   "cell_type": "code",
   "execution_count": 52,
   "metadata": {},
   "outputs": [
    {
     "data": {
      "text/plain": [
       "9.50423553719008"
      ]
     },
     "execution_count": 52,
     "metadata": {},
     "output_type": "execute_result"
    }
   ],
   "source": [
    "pricewbeer.mean() - burguer_price.mean() # Mean beer price in NZ$"
   ]
  }
 ],
 "metadata": {
  "kernelspec": {
   "display_name": "Python 3",
   "language": "python",
   "name": "python3"
  },
  "language_info": {
   "codemirror_mode": {
    "name": "ipython",
    "version": 3
   },
   "file_extension": ".py",
   "mimetype": "text/x-python",
   "name": "python",
   "nbconvert_exporter": "python",
   "pygments_lexer": "ipython3",
   "version": "3.8.5"
  }
 },
 "nbformat": 4,
 "nbformat_minor": 4
}
